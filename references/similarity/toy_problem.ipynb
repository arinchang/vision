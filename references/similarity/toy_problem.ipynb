{
 "cells": [
  {
   "cell_type": "code",
   "execution_count": 1,
   "metadata": {},
   "outputs": [],
   "source": [
    "import numpy as np"
   ]
  },
  {
   "cell_type": "code",
   "execution_count": 53,
   "metadata": {},
   "outputs": [
    {
     "data": {
      "text/plain": [
       "(array([0.32217927, 0.74339603]), array([0.26706856, 0.40639382]))"
      ]
     },
     "execution_count": 53,
     "metadata": {},
     "output_type": "execute_result"
    }
   ],
   "source": [
    "x = np.random.random(2)\n",
    "w_true = np.random.random(1)[0]\n",
    "y = w_true * x + np.random.randn(1)\n",
    "x, y"
   ]
  },
  {
   "cell_type": "code",
   "execution_count": 54,
   "metadata": {},
   "outputs": [],
   "source": [
    "alpha_1 = 0.1\n",
    "alpha = np.array([alpha_1, 1-alpha_1])\n"
   ]
  },
  {
   "cell_type": "code",
   "execution_count": 55,
   "metadata": {},
   "outputs": [
    {
     "name": "stdout",
     "output_type": "stream",
     "text": [
      "loss: 0.006962703625811818, loss weighted: 0.0008101405080376639, minority loss: 0.0007935789066741421, majority loss: 1.6561601363521774e-05\n"
     ]
    }
   ],
   "source": [
    "w_est = (x @ y) / (x @ x)\n",
    "loss = np.sum((y-w_est*x)**2)\n",
    "\n",
    "\n",
    "w_est_weighted = (x[0] * alpha[0] * y[0] + x[1] * alpha[1] * y[1]) / ((x[0] ** 2) * alpha[0] + (x[1] ** 2) * alpha[1])\n",
    "loss_temp = ((y-w_est_weighted*x)**2) * alpha\n",
    "min_loss, maj_loss = loss_temp[0], loss_temp[1]\n",
    "loss_weighted = np.sum(loss_temp)\n",
    "print(f\"loss: {loss}, loss weighted: {loss_weighted}, minority loss: {min_loss}, majority loss: {maj_loss}\")\n"
   ]
  },
  {
   "cell_type": "code",
   "execution_count": null,
   "metadata": {},
   "outputs": [],
   "source": []
  }
 ],
 "metadata": {
  "kernelspec": {
   "display_name": "sagawa_dp",
   "language": "python",
   "name": "python3"
  },
  "language_info": {
   "codemirror_mode": {
    "name": "ipython",
    "version": 3
   },
   "file_extension": ".py",
   "mimetype": "text/x-python",
   "name": "python",
   "nbconvert_exporter": "python",
   "pygments_lexer": "ipython3",
   "version": "3.7.13"
  },
  "orig_nbformat": 4
 },
 "nbformat": 4,
 "nbformat_minor": 2
}
